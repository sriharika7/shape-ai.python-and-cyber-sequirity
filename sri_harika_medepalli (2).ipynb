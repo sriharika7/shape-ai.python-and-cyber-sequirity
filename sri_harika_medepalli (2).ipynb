{
  "nbformat": 4,
  "nbformat_minor": 0,
  "metadata": {
    "colab": {
      "name": "sri harika medepalli.ipynb",
      "provenance": [],
      "collapsed_sections": []
    },
    "kernelspec": {
      "name": "python3",
      "display_name": "Python 3"
    },
    "language_info": {
      "name": "python"
    }
  },
  "cells": [
    {
      "cell_type": "code",
      "metadata": {
        "id": "GIllYQDpimAK"
      },
      "source": [
        "import requests"
      ],
      "execution_count": null,
      "outputs": []
    },
    {
      "cell_type": "code",
      "metadata": {
        "id": "DuXjPqWjklFL"
      },
      "source": [
        "#import os"
      ],
      "execution_count": null,
      "outputs": []
    },
    {
      "cell_type": "code",
      "metadata": {
        "id": "U4CsPJYUl2zM"
      },
      "source": [
        "from datetime import datetime"
      ],
      "execution_count": null,
      "outputs": []
    },
    {
      "cell_type": "code",
      "metadata": {
        "id": "0Riq78DBmBpZ"
      },
      "source": [
        ""
      ],
      "execution_count": null,
      "outputs": []
    },
    {
      "cell_type": "code",
      "metadata": {
        "id": "AQVuze6XmDRB"
      },
      "source": [
        "api_key = '1c3999fbc3366e59e2fd8f1cc2a53a8b'"
      ],
      "execution_count": null,
      "outputs": []
    },
    {
      "cell_type": "code",
      "metadata": {
        "id": "jc0_hLqJm_DZ",
        "colab": {
          "base_uri": "https://localhost:8080/"
        },
        "outputId": "756c4a52-57eb-413f-9096-ac1cdfe26d65"
      },
      "source": [
        "location = input(\"enter the city name: \")"
      ],
      "execution_count": null,
      "outputs": [
        {
          "output_type": "stream",
          "text": [
            "enter the city name: new york\n"
          ],
          "name": "stdout"
        }
      ]
    },
    {
      "cell_type": "code",
      "metadata": {
        "id": "LM0Adr69nlOa"
      },
      "source": [
        ""
      ],
      "execution_count": null,
      "outputs": []
    },
    {
      "cell_type": "code",
      "metadata": {
        "id": "EgXnHGJKnoUf"
      },
      "source": [
        "complete_api_link = \"https://api.openweathermap.org/data/2.5/weather?q=\"+location+\"&appid=\"+api_key"
      ],
      "execution_count": null,
      "outputs": []
    },
    {
      "cell_type": "code",
      "metadata": {
        "id": "vW_hx5Dmob7A"
      },
      "source": [
        "api_link = requests.get(complete_api_link)"
      ],
      "execution_count": null,
      "outputs": []
    },
    {
      "cell_type": "code",
      "metadata": {
        "id": "LGhCv6_EoxRX"
      },
      "source": [
        "api_data = api_link.json()"
      ],
      "execution_count": null,
      "outputs": []
    },
    {
      "cell_type": "code",
      "metadata": {
        "id": "uo1veEkxo__X"
      },
      "source": [
        ""
      ],
      "execution_count": null,
      "outputs": []
    },
    {
      "cell_type": "code",
      "metadata": {
        "id": "Obs1kNN3pBv-"
      },
      "source": [
        "#create variables to store and display data"
      ],
      "execution_count": null,
      "outputs": []
    },
    {
      "cell_type": "code",
      "metadata": {
        "id": "BPEZhohCp6AQ"
      },
      "source": [
        "temp_city = ((api_data['main']['temp'])- 273.15)"
      ],
      "execution_count": null,
      "outputs": []
    },
    {
      "cell_type": "code",
      "metadata": {
        "id": "v9qhK5w0qTVS"
      },
      "source": [
        "weather_desc = api_data['weather'][0]['description']"
      ],
      "execution_count": null,
      "outputs": []
    },
    {
      "cell_type": "code",
      "metadata": {
        "id": "xWnETCLcqqr5"
      },
      "source": [
        "hmdt = api_data['main']['humidity']"
      ],
      "execution_count": null,
      "outputs": []
    },
    {
      "cell_type": "code",
      "metadata": {
        "id": "WkWrajonq9kZ"
      },
      "source": [
        "wind_spd= api_data['wind']['speed']"
      ],
      "execution_count": null,
      "outputs": []
    },
    {
      "cell_type": "code",
      "metadata": {
        "id": "EmpZeiXqrNnR"
      },
      "source": [
        "date_time = datetime.now().strftime(\"%d %b %y | %i:%m:%s:%p\")"
      ],
      "execution_count": null,
      "outputs": []
    },
    {
      "cell_type": "code",
      "metadata": {
        "id": "frBei8-Grspa"
      },
      "source": [
        ""
      ],
      "execution_count": null,
      "outputs": []
    },
    {
      "cell_type": "code",
      "metadata": {
        "colab": {
          "base_uri": "https://localhost:8080/"
        },
        "id": "zF2VgwxVrt8I",
        "outputId": "5e0675a6-2e45-4065-d7db-31e8573ec312"
      },
      "source": [
        "print (\"                                                             \")"
      ],
      "execution_count": null,
      "outputs": [
        {
          "output_type": "stream",
          "text": [
            "                                                             \n"
          ],
          "name": "stdout"
        }
      ]
    },
    {
      "cell_type": "code",
      "metadata": {
        "id": "rRZbF-b_r6bp",
        "colab": {
          "base_uri": "https://localhost:8080/"
        },
        "outputId": "e061c73d-d6a9-41d6-c27b-541e3e7dd9e0"
      },
      "source": [
        "print (\"weather stats for - {} || {} \".format(location.upper(), date_time))"
      ],
      "execution_count": null,
      "outputs": [
        {
          "output_type": "stream",
          "text": [
            "weather stats for - NEW YORK || 28 Jul 21 | %i:07:1627481939:PM \n"
          ],
          "name": "stdout"
        }
      ]
    },
    {
      "cell_type": "code",
      "metadata": {
        "id": "OwSIyuRY_l34",
        "colab": {
          "base_uri": "https://localhost:8080/"
        },
        "outputId": "158749b1-10ed-4398-b0b2-1dca35b47ad5"
      },
      "source": [
        "print ('                                ')"
      ],
      "execution_count": null,
      "outputs": [
        {
          "output_type": "stream",
          "text": [
            "                                \n"
          ],
          "name": "stdout"
        }
      ]
    },
    {
      "cell_type": "code",
      "metadata": {
        "id": "IRBUqMpsAFWG"
      },
      "source": [
        ""
      ],
      "execution_count": null,
      "outputs": []
    },
    {
      "cell_type": "code",
      "metadata": {
        "colab": {
          "base_uri": "https://localhost:8080/"
        },
        "id": "EJfR1bXZAANu",
        "outputId": "07086ee0-afde-4153-955b-15e7c6754dc8"
      },
      "source": [
        "print (\"current temperature is: {:.2f} deg c\".format(temp_city))"
      ],
      "execution_count": null,
      "outputs": [
        {
          "output_type": "stream",
          "text": [
            "current temperature is: 23.64 deg c\n"
          ],
          "name": "stdout"
        }
      ]
    },
    {
      "cell_type": "code",
      "metadata": {
        "colab": {
          "base_uri": "https://localhost:8080/"
        },
        "id": "x5Acc6GDBD2d",
        "outputId": "7bdebc6c-66e8-4ade-edab-859a8fc1e212"
      },
      "source": [
        "print (\"current weather desc :\",weather_desc)"
      ],
      "execution_count": null,
      "outputs": [
        {
          "output_type": "stream",
          "text": [
            "current weather desc : clear sky\n"
          ],
          "name": "stdout"
        }
      ]
    },
    {
      "cell_type": "code",
      "metadata": {
        "colab": {
          "base_uri": "https://localhost:8080/"
        },
        "id": "knNzqrfWBWuT",
        "outputId": "facf9a5d-3fc3-4d69-d1e9-5bf63c4eea49"
      },
      "source": [
        "print (\"current humidity     :\",hmdt,'%')"
      ],
      "execution_count": null,
      "outputs": [
        {
          "output_type": "stream",
          "text": [
            "current humidity     : 74 %\n"
          ],
          "name": "stdout"
        }
      ]
    },
    {
      "cell_type": "code",
      "metadata": {
        "colab": {
          "base_uri": "https://localhost:8080/"
        },
        "id": "k7ncezfEB8gU",
        "outputId": "63d42f10-c94c-4b9a-f89c-5b78f5194f60"
      },
      "source": [
        "print (\"current wind speeed  :\", wind_spd ,'kmph')"
      ],
      "execution_count": null,
      "outputs": [
        {
          "output_type": "stream",
          "text": [
            "current wind speeed  : 0.45 kmph\n"
          ],
          "name": "stdout"
        }
      ]
    },
    {
      "cell_type": "code",
      "metadata": {
        "id": "rb_oHYWMCRzT"
      },
      "source": [
        ""
      ],
      "execution_count": null,
      "outputs": []
    },
    {
      "cell_type": "code",
      "metadata": {
        "colab": {
          "base_uri": "https://localhost:8080/"
        },
        "id": "rtG87YmQCTfU",
        "outputId": "54f43bbe-8fd1-44c4-a960-bac685e14c2d"
      },
      "source": [
        "print (\"                                            \")"
      ],
      "execution_count": null,
      "outputs": [
        {
          "output_type": "stream",
          "text": [
            "                                            \n"
          ],
          "name": "stdout"
        }
      ]
    },
    {
      "cell_type": "code",
      "metadata": {
        "id": "oWQqhMmFCYPT"
      },
      "source": [
        ""
      ],
      "execution_count": null,
      "outputs": []
    },
    {
      "cell_type": "code",
      "metadata": {
        "id": "yGITyPsRCYbh"
      },
      "source": [
        ""
      ],
      "execution_count": null,
      "outputs": []
    },
    {
      "cell_type": "code",
      "metadata": {
        "id": "YVIIfXyHCd2V"
      },
      "source": [
        "# making a list so that i can print the info to a txt "
      ],
      "execution_count": null,
      "outputs": []
    },
    {
      "cell_type": "code",
      "metadata": {
        "id": "qsZPRP9PCsiM"
      },
      "source": [
        "txtlist = [temp_city,weather_desc,wind_spd,date_time]"
      ],
      "execution_count": null,
      "outputs": []
    },
    {
      "cell_type": "code",
      "metadata": {
        "id": "8nvIF6dhDACR"
      },
      "source": [
        "#using open() buit-in function to write to a text file"
      ],
      "execution_count": null,
      "outputs": []
    },
    {
      "cell_type": "code",
      "metadata": {
        "id": "6H4cQiAUcV1X"
      },
      "source": [
        "with open(\"textfile.txt\" ,mode= 'w' ,encoding = 'utf-8') as f :\n",
        "                                    #encoding = 'utf-8' for linux and cp1252 for win"
      ],
      "execution_count": null,
      "outputs": []
    },
    {
      "cell_type": "code",
      "metadata": {
        "id": "syRV5HDJHAWj"
      },
      "source": [
        "f.write(\"                                         \\n\")"
      ],
      "execution_count": null,
      "outputs": []
    },
    {
      "cell_type": "code",
      "metadata": {
        "id": "fu5AbsPPHQPZ"
      },
      "source": [
        "f.write(\"weather stats for - {}  ||  {}\".format(location.upper(), date_time))"
      ],
      "execution_count": null,
      "outputs": []
    },
    {
      "cell_type": "code",
      "metadata": {
        "id": "3qHuQLjKdBIG"
      },
      "source": [
        "f.write(\"\\n                                         \\n\")"
      ],
      "execution_count": null,
      "outputs": []
    },
    {
      "cell_type": "code",
      "metadata": {
        "id": "G9lV-89kdIkr"
      },
      "source": [
        "f.write(\"current temperature is : {:.2f} deg c\\n\".format(txtlist[0]))"
      ],
      "execution_count": null,
      "outputs": []
    },
    {
      "cell_type": "code",
      "metadata": {
        "id": "Cqy07T_jdke1"
      },
      "source": [
        ""
      ],
      "execution_count": null,
      "outputs": []
    },
    {
      "cell_type": "code",
      "metadata": {
        "id": "6_pS_uoLdlis"
      },
      "source": [
        "f.write(\"{},{} \\n\".format(\"current weather desc   :\",txtlist[1]))"
      ],
      "execution_count": null,
      "outputs": []
    },
    {
      "cell_type": "code",
      "metadata": {
        "id": "B3I9Mp_Xd3VG"
      },
      "source": [
        "f.write(\"{},{},{} \\n\".format(\"current humidity    :\",txtlist[2],\"%\"))"
      ],
      "execution_count": null,
      "outputs": []
    },
    {
      "cell_type": "code",
      "metadata": {
        "id": "XU4igLh2eH0r"
      },
      "source": [
        "f.write(\"{},{},{} \\n\".format(\"current wind speed  :\".txtlist[3],\"kmph\"))"
      ],
      "execution_count": null,
      "outputs": []
    },
    {
      "cell_type": "code",
      "metadata": {
        "id": "4eELrWqaekAk"
      },
      "source": [
        "f.write(\"                                                       \")"
      ],
      "execution_count": null,
      "outputs": []
    }
  ]
}